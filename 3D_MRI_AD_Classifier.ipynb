{
  "cells": [
    {
      "cell_type": "code",
      "execution_count": 1,
      "metadata": {
        "id": "pmKR7A_WDAYl"
      },
      "outputs": [
        {
          "name": "stdout",
          "output_type": "stream",
          "text": [
            "WARNING:tensorflow:From c:\\Users\\there\\AppData\\Local\\Programs\\Python\\Python39\\lib\\site-packages\\keras\\src\\losses.py:2976: The name tf.losses.sparse_softmax_cross_entropy is deprecated. Please use tf.compat.v1.losses.sparse_softmax_cross_entropy instead.\n",
            "\n"
          ]
        }
      ],
      "source": [
        "# standard\n",
        "import pandas as pd\n",
        "import numpy as np\n",
        "import random\n",
        "import os\n",
        "\n",
        "# tf and keras\n",
        "import tensorflow as tf\n",
        "from tensorflow import keras\n",
        "from keras import models\n",
        "from keras import layers\n",
        "from keras import metrics\n",
        "\n",
        "# plots\n",
        "import seaborn as sns\n",
        "import matplotlib.pyplot as plt\n",
        "\n",
        "import nibabel as nib\n",
        "import sklearn\n",
        "from sklearn.model_selection import train_test_split"
      ]
    },
    {
      "cell_type": "code",
      "execution_count": 2,
      "metadata": {},
      "outputs": [
        {
          "name": "stdout",
          "output_type": "stream",
          "text": [
            "(347501664,)\n"
          ]
        }
      ],
      "source": [
        "## Change filepath later with larger dataset\n",
        "directory = r\"C:\\Users\\there\\Downloads\\207_project_all-20231120T013601Z-001\\207_project_all\"\n",
        "\n",
        "def images_array(directory):\n",
        "  data_arr = np.zeros((173664,))\n",
        "  for filename in os.listdir(directory):\n",
        "    f = os.path.join(directory, filename)\n",
        "    img = nib.load(f)\n",
        "    data = img.get_fdata()\n",
        "    data_scaled = data[48:254, 125:197, 82:100]\n",
        "    data_flatten = data_scaled.flatten()\n",
        "    data_flatten = data_flatten[:173664]\n",
        "    data_arr = np.concatenate((data_arr, np.array(data_flatten)), axis=0)\n",
        "  return data_arr\n",
        "\n",
        "data_arr = images_array(directory)\n",
        "print(data_arr.shape)"
      ]
    },
    {
      "cell_type": "code",
      "execution_count": 3,
      "metadata": {
        "id": "e5DNUfYhrv7a"
      },
      "outputs": [],
      "source": [
        "def images_id(directory):\n",
        "    img_id_lst = []\n",
        "    for filename in os.listdir(directory):\n",
        "        f = os.path.join(directory, filename)\n",
        "        split_file_one = filename.split('_I')\n",
        "        split_file_two = split_file_one[1].split('.nii')\n",
        "        img_id = split_file_two[0]\n",
        "        img_id_lst.append(int(img_id))\n",
        "    return img_id_lst\n",
        "img_id_lst = images_id(directory)"
      ]
    },
    {
      "cell_type": "code",
      "execution_count": 4,
      "metadata": {},
      "outputs": [
        {
          "data": {
            "text/html": [
              "<div>\n",
              "<style scoped>\n",
              "    .dataframe tbody tr th:only-of-type {\n",
              "        vertical-align: middle;\n",
              "    }\n",
              "\n",
              "    .dataframe tbody tr th {\n",
              "        vertical-align: top;\n",
              "    }\n",
              "\n",
              "    .dataframe thead th {\n",
              "        text-align: right;\n",
              "    }\n",
              "</style>\n",
              "<table border=\"1\" class=\"dataframe\">\n",
              "  <thead>\n",
              "    <tr style=\"text-align: right;\">\n",
              "      <th></th>\n",
              "      <th>RID</th>\n",
              "      <th>PTID</th>\n",
              "      <th>Screen.Diagnosis</th>\n",
              "      <th>Visit</th>\n",
              "      <th>Scan.Date</th>\n",
              "      <th>Sequence</th>\n",
              "      <th>Study.ID</th>\n",
              "      <th>Series.ID</th>\n",
              "      <th>Image.ID</th>\n",
              "      <th>Bl.Diagnosis</th>\n",
              "    </tr>\n",
              "  </thead>\n",
              "  <tbody>\n",
              "    <tr>\n",
              "      <th>0</th>\n",
              "      <td>15</td>\n",
              "      <td>100_S_0015</td>\n",
              "      <td>NL</td>\n",
              "      <td>Month 6</td>\n",
              "      <td>5/2/06</td>\n",
              "      <td>MPR-R; ; N3; Scaled</td>\n",
              "      <td>3695</td>\n",
              "      <td>13884</td>\n",
              "      <td>33041</td>\n",
              "      <td>NaN</td>\n",
              "    </tr>\n",
              "    <tr>\n",
              "      <th>1</th>\n",
              "      <td>15</td>\n",
              "      <td>100_S_0015</td>\n",
              "      <td>NL</td>\n",
              "      <td>Baseline</td>\n",
              "      <td>10/31/05</td>\n",
              "      <td>MPR-R; ; N3; Scaled</td>\n",
              "      <td>2613</td>\n",
              "      <td>8833</td>\n",
              "      <td>33046</td>\n",
              "      <td>NaN</td>\n",
              "    </tr>\n",
              "    <tr>\n",
              "      <th>2</th>\n",
              "      <td>15</td>\n",
              "      <td>100_S_0015</td>\n",
              "      <td>NL</td>\n",
              "      <td>Month 12</td>\n",
              "      <td>10/16/06</td>\n",
              "      <td>MPR-R; ; N3; Scaled</td>\n",
              "      <td>5490</td>\n",
              "      <td>20311</td>\n",
              "      <td>63475</td>\n",
              "      <td>NaN</td>\n",
              "    </tr>\n",
              "    <tr>\n",
              "      <th>3</th>\n",
              "      <td>15</td>\n",
              "      <td>100_S_0015</td>\n",
              "      <td>NL</td>\n",
              "      <td>Month 24</td>\n",
              "      <td>10/11/07</td>\n",
              "      <td>MPR; ; N3; Scaled</td>\n",
              "      <td>13281</td>\n",
              "      <td>41463</td>\n",
              "      <td>82551</td>\n",
              "      <td>NaN</td>\n",
              "    </tr>\n",
              "    <tr>\n",
              "      <th>4</th>\n",
              "      <td>15</td>\n",
              "      <td>100_S_0015</td>\n",
              "      <td>NL</td>\n",
              "      <td>Month 36</td>\n",
              "      <td>4/27/09</td>\n",
              "      <td>MPR; ; N3; Scaled</td>\n",
              "      <td>21223</td>\n",
              "      <td>66778</td>\n",
              "      <td>160866</td>\n",
              "      <td>NaN</td>\n",
              "    </tr>\n",
              "    <tr>\n",
              "      <th>...</th>\n",
              "      <td>...</td>\n",
              "      <td>...</td>\n",
              "      <td>...</td>\n",
              "      <td>...</td>\n",
              "      <td>...</td>\n",
              "      <td>...</td>\n",
              "      <td>...</td>\n",
              "      <td>...</td>\n",
              "      <td>...</td>\n",
              "      <td>...</td>\n",
              "    </tr>\n",
              "    <tr>\n",
              "      <th>2289</th>\n",
              "      <td>1426</td>\n",
              "      <td>137_S_1426</td>\n",
              "      <td>MCI</td>\n",
              "      <td>Month 6</td>\n",
              "      <td>4/10/08</td>\n",
              "      <td>MPR-R; GradWarp; N3; Scaled</td>\n",
              "      <td>15458</td>\n",
              "      <td>48599</td>\n",
              "      <td>103514</td>\n",
              "      <td>NaN</td>\n",
              "    </tr>\n",
              "    <tr>\n",
              "      <th>2290</th>\n",
              "      <td>1426</td>\n",
              "      <td>137_S_1426</td>\n",
              "      <td>MCI</td>\n",
              "      <td>Month 12</td>\n",
              "      <td>10/30/08</td>\n",
              "      <td>MPR-R; GradWarp; N3; Scaled</td>\n",
              "      <td>18239</td>\n",
              "      <td>58135</td>\n",
              "      <td>125941</td>\n",
              "      <td>NaN</td>\n",
              "    </tr>\n",
              "    <tr>\n",
              "      <th>2291</th>\n",
              "      <td>1427</td>\n",
              "      <td>127_S_1427</td>\n",
              "      <td>MCI</td>\n",
              "      <td>Screening</td>\n",
              "      <td>8/20/07</td>\n",
              "      <td>MPR; GradWarp; B1 Correction; N3; Scaled</td>\n",
              "      <td>11182</td>\n",
              "      <td>37933</td>\n",
              "      <td>91126</td>\n",
              "      <td>NaN</td>\n",
              "    </tr>\n",
              "    <tr>\n",
              "      <th>2292</th>\n",
              "      <td>1427</td>\n",
              "      <td>127_S_1427</td>\n",
              "      <td>MCI</td>\n",
              "      <td>Month 6</td>\n",
              "      <td>2/19/08</td>\n",
              "      <td>MPR; GradWarp; B1 Correction; N3; Scaled</td>\n",
              "      <td>14728</td>\n",
              "      <td>46021</td>\n",
              "      <td>99191</td>\n",
              "      <td>NaN</td>\n",
              "    </tr>\n",
              "    <tr>\n",
              "      <th>2293</th>\n",
              "      <td>1427</td>\n",
              "      <td>127_S_1427</td>\n",
              "      <td>MCI</td>\n",
              "      <td>Month 12</td>\n",
              "      <td>9/2/08</td>\n",
              "      <td>MPR; GradWarp; B1 Correction; N3; Scaled</td>\n",
              "      <td>17655</td>\n",
              "      <td>56227</td>\n",
              "      <td>121689</td>\n",
              "      <td>NaN</td>\n",
              "    </tr>\n",
              "  </tbody>\n",
              "</table>\n",
              "<p>11421 rows × 10 columns</p>\n",
              "</div>"
            ],
            "text/plain": [
              "       RID        PTID Screen.Diagnosis      Visit Scan.Date  \\\n",
              "0       15  100_S_0015               NL    Month 6    5/2/06   \n",
              "1       15  100_S_0015               NL   Baseline  10/31/05   \n",
              "2       15  100_S_0015               NL   Month 12  10/16/06   \n",
              "3       15  100_S_0015               NL   Month 24  10/11/07   \n",
              "4       15  100_S_0015               NL   Month 36   4/27/09   \n",
              "...    ...         ...              ...        ...       ...   \n",
              "2289  1426  137_S_1426              MCI    Month 6   4/10/08   \n",
              "2290  1426  137_S_1426              MCI   Month 12  10/30/08   \n",
              "2291  1427  127_S_1427              MCI  Screening   8/20/07   \n",
              "2292  1427  127_S_1427              MCI    Month 6   2/19/08   \n",
              "2293  1427  127_S_1427              MCI   Month 12    9/2/08   \n",
              "\n",
              "                                      Sequence  Study.ID  Series.ID  Image.ID  \\\n",
              "0                          MPR-R; ; N3; Scaled      3695      13884     33041   \n",
              "1                          MPR-R; ; N3; Scaled      2613       8833     33046   \n",
              "2                          MPR-R; ; N3; Scaled      5490      20311     63475   \n",
              "3                            MPR; ; N3; Scaled     13281      41463     82551   \n",
              "4                            MPR; ; N3; Scaled     21223      66778    160866   \n",
              "...                                        ...       ...        ...       ...   \n",
              "2289               MPR-R; GradWarp; N3; Scaled     15458      48599    103514   \n",
              "2290               MPR-R; GradWarp; N3; Scaled     18239      58135    125941   \n",
              "2291  MPR; GradWarp; B1 Correction; N3; Scaled     11182      37933     91126   \n",
              "2292  MPR; GradWarp; B1 Correction; N3; Scaled     14728      46021     99191   \n",
              "2293  MPR; GradWarp; B1 Correction; N3; Scaled     17655      56227    121689   \n",
              "\n",
              "     Bl.Diagnosis  \n",
              "0             NaN  \n",
              "1             NaN  \n",
              "2             NaN  \n",
              "3             NaN  \n",
              "4             NaN  \n",
              "...           ...  \n",
              "2289          NaN  \n",
              "2290          NaN  \n",
              "2291          NaN  \n",
              "2292          NaN  \n",
              "2293          NaN  \n",
              "\n",
              "[11421 rows x 10 columns]"
            ]
          },
          "execution_count": 4,
          "metadata": {},
          "output_type": "execute_result"
        }
      ],
      "source": [
        "# Create dataframe of image and diagnosis data\n",
        "ADNI_file_1 = r\"C:\\Users\\there\\Downloads\\ADNI_3T_MRI_Standardized_Lists\\ADNI_CompleteVisitList_3T_8_28_12.csv\"\n",
        "ADNI_file_2 = r\"C:\\Users\\there\\Downloads\\ADNI_3T_MRI_Standardized_Lists\\ADNI_BaselineList_3T_8_28_12.csv\"\n",
        "ADNI_file_3 = r\"C:\\Users\\there\\Downloads\\ADNI_3T_MRI_Standardized_Lists\\ADNI_Complete1YearVisitList_3T_8_28_12.csv\"\n",
        "ADNI_file_4 = r\"C:\\Users\\there\\Downloads\\ADNI_3T_MRI_Standardized_Lists\\ADNI_Complete2YearVisitList_3T_8_28_12.csv\"\n",
        "ADNI_file_5 = r\"C:\\Users\\there\\Downloads\\ADNI_3T_MRI_Standardized_Lists\\ADNI_CompleteAnnual2YearVisitList_3T_8_28_12.csv\"\n",
        "ADNI_file_6 = r\"C:\\Users\\there\\Downloads\\ADNI_1.5T_MRI_Standardized_Lists\\ADNI_Complete2YearVisitList_8_22_12.csv\"\n",
        "ADNI_file_7 = r\"C:\\Users\\there\\Downloads\\ADNI_1.5T_MRI_Standardized_Lists\\ADNI_CompleteAnnual2YearVisitList_8_22_12.csv\"\n",
        "ADNI_file_8 = r\"C:\\Users\\there\\Downloads\\ADNI_1.5T_MRI_Standardized_Lists\\ADNI_CompleteVisitList_8_22_12.csv\"\n",
        "ADNI_file_9 = r\"C:\\Users\\there\\Downloads\\ADNI_1.5T_MRI_Standardized_Lists\\ADNI_ScreeningList_8_22_12.csv\"\n",
        "ADNI_file_10 = r\"C:\\Users\\there\\Downloads\\ADNI_1.5T_MRI_Standardized_Lists\\ADNI_Complete1YearVisitList_8_22_12.csv\"\n",
        "\n",
        "df_patient_1 = pd.read_csv(ADNI_file_1)\n",
        "df_patient_2 = pd.read_csv(ADNI_file_2)\n",
        "df_patient_3 = pd.read_csv(ADNI_file_3)\n",
        "df_patient_4 = pd.read_csv(ADNI_file_4)\n",
        "df_patient_5 = pd.read_csv(ADNI_file_5)\n",
        "df_patient_6 = pd.read_csv(ADNI_file_6)\n",
        "df_patient_7 = pd.read_csv(ADNI_file_7)\n",
        "df_patient_8 = pd.read_csv(ADNI_file_8)\n",
        "df_patient_9 = pd.read_csv(ADNI_file_9)\n",
        "df_patient_10 = pd.read_csv(ADNI_file_10)\n",
        "df_patient = pd.concat((df_patient_1, df_patient_2, df_patient_3, df_patient_4, df_patient_5,\n",
        "                        df_patient_6, df_patient_7, df_patient_8, df_patient_9, df_patient_10))\n",
        "df_patient\n"
      ]
    },
    {
      "cell_type": "code",
      "execution_count": 5,
      "metadata": {
        "id": "oWv1QfybIblu"
      },
      "outputs": [
        {
          "data": {
            "text/html": [
              "<div>\n",
              "<style scoped>\n",
              "    .dataframe tbody tr th:only-of-type {\n",
              "        vertical-align: middle;\n",
              "    }\n",
              "\n",
              "    .dataframe tbody tr th {\n",
              "        vertical-align: top;\n",
              "    }\n",
              "\n",
              "    .dataframe thead th {\n",
              "        text-align: right;\n",
              "    }\n",
              "</style>\n",
              "<table border=\"1\" class=\"dataframe\">\n",
              "  <thead>\n",
              "    <tr style=\"text-align: right;\">\n",
              "      <th></th>\n",
              "      <th>Image.ID</th>\n",
              "      <th>Screen.Diagnosis</th>\n",
              "    </tr>\n",
              "  </thead>\n",
              "  <tbody>\n",
              "    <tr>\n",
              "      <th>5</th>\n",
              "      <td>31623</td>\n",
              "      <td>MCI</td>\n",
              "    </tr>\n",
              "    <tr>\n",
              "      <th>6</th>\n",
              "      <td>51902</td>\n",
              "      <td>MCI</td>\n",
              "    </tr>\n",
              "    <tr>\n",
              "      <th>7</th>\n",
              "      <td>64059</td>\n",
              "      <td>MCI</td>\n",
              "    </tr>\n",
              "    <tr>\n",
              "      <th>8</th>\n",
              "      <td>87493</td>\n",
              "      <td>MCI</td>\n",
              "    </tr>\n",
              "    <tr>\n",
              "      <th>10</th>\n",
              "      <td>118790</td>\n",
              "      <td>MCI</td>\n",
              "    </tr>\n",
              "    <tr>\n",
              "      <th>...</th>\n",
              "      <td>...</td>\n",
              "      <td>...</td>\n",
              "    </tr>\n",
              "    <tr>\n",
              "      <th>1937</th>\n",
              "      <td>102067</td>\n",
              "      <td>AD</td>\n",
              "    </tr>\n",
              "    <tr>\n",
              "      <th>2054</th>\n",
              "      <td>74748</td>\n",
              "      <td>MCI</td>\n",
              "    </tr>\n",
              "    <tr>\n",
              "      <th>2055</th>\n",
              "      <td>106630</td>\n",
              "      <td>MCI</td>\n",
              "    </tr>\n",
              "    <tr>\n",
              "      <th>2076</th>\n",
              "      <td>105837</td>\n",
              "      <td>MCI</td>\n",
              "    </tr>\n",
              "    <tr>\n",
              "      <th>2077</th>\n",
              "      <td>106222</td>\n",
              "      <td>MCI</td>\n",
              "    </tr>\n",
              "  </tbody>\n",
              "</table>\n",
              "<p>1958 rows × 2 columns</p>\n",
              "</div>"
            ],
            "text/plain": [
              "      Image.ID Screen.Diagnosis\n",
              "5        31623              MCI\n",
              "6        51902              MCI\n",
              "7        64059              MCI\n",
              "8        87493              MCI\n",
              "10      118790              MCI\n",
              "...        ...              ...\n",
              "1937    102067               AD\n",
              "2054     74748              MCI\n",
              "2055    106630              MCI\n",
              "2076    105837              MCI\n",
              "2077    106222              MCI\n",
              "\n",
              "[1958 rows x 2 columns]"
            ]
          },
          "execution_count": 5,
          "metadata": {},
          "output_type": "execute_result"
        }
      ],
      "source": [
        "# Filter dataframe to have image ID and screening diagnosis only\n",
        "df_filtered = df_patient.loc[df_patient['Image.ID'].isin(img_id_lst)]\n",
        "df_filtered = df_filtered[['Image.ID', 'Screen.Diagnosis']]\n",
        "df_filtered = df_filtered.drop_duplicates(subset=['Image.ID'])\n",
        "df_final = df_filtered.dropna()\n",
        "df_final"
      ]
    },
    {
      "cell_type": "code",
      "execution_count": 6,
      "metadata": {},
      "outputs": [],
      "source": [
        "df_null = df_filtered[df_filtered['Screen.Diagnosis'].isnull()]\n",
        "diag_lst = ['AD', 'AD', 'MCI', 'AD', 'AD', 'MCI', 'MCI', 'MCI', 'NL',\n",
        "            'MCI', 'MCI', 'MCI', 'MCI', 'NL', 'NL', 'MCI', 'MCI',\n",
        "            'NL', 'MCI', 'MCI', 'MCI', 'MCI', 'MCI', 'MCI', 'NL',\n",
        "            'NL', 'NL', 'MCI', 'NL', 'NL', 'MCI', 'MCI', 'MCI', \n",
        "            'MCI', 'AD', 'NL', 'NL', 'MCI', 'MCI', 'MCI', 'NL', 'MCI']\n",
        "\n",
        "df_null = df_null[['Image.ID']]\n",
        "df_null['Screen.Diagnosis'] = diag_lst\n",
        "df_final = pd.concat((df_final, df_null))\n",
        "df_final = df_final.drop_duplicates(subset=['Image.ID'])"
      ]
    },
    {
      "cell_type": "code",
      "execution_count": 7,
      "metadata": {},
      "outputs": [
        {
          "data": {
            "text/html": [
              "<div>\n",
              "<style scoped>\n",
              "    .dataframe tbody tr th:only-of-type {\n",
              "        vertical-align: middle;\n",
              "    }\n",
              "\n",
              "    .dataframe tbody tr th {\n",
              "        vertical-align: top;\n",
              "    }\n",
              "\n",
              "    .dataframe thead th {\n",
              "        text-align: right;\n",
              "    }\n",
              "</style>\n",
              "<table border=\"1\" class=\"dataframe\">\n",
              "  <thead>\n",
              "    <tr style=\"text-align: right;\">\n",
              "      <th></th>\n",
              "      <th>index</th>\n",
              "      <th>Image.ID</th>\n",
              "      <th>Screen.Diagnosis</th>\n",
              "      <th>Diagnosis_label</th>\n",
              "    </tr>\n",
              "  </thead>\n",
              "  <tbody>\n",
              "    <tr>\n",
              "      <th>0</th>\n",
              "      <td>5</td>\n",
              "      <td>31623</td>\n",
              "      <td>MCI</td>\n",
              "      <td>1</td>\n",
              "    </tr>\n",
              "    <tr>\n",
              "      <th>1</th>\n",
              "      <td>6</td>\n",
              "      <td>51902</td>\n",
              "      <td>MCI</td>\n",
              "      <td>1</td>\n",
              "    </tr>\n",
              "    <tr>\n",
              "      <th>2</th>\n",
              "      <td>7</td>\n",
              "      <td>64059</td>\n",
              "      <td>MCI</td>\n",
              "      <td>1</td>\n",
              "    </tr>\n",
              "    <tr>\n",
              "      <th>3</th>\n",
              "      <td>8</td>\n",
              "      <td>87493</td>\n",
              "      <td>MCI</td>\n",
              "      <td>1</td>\n",
              "    </tr>\n",
              "    <tr>\n",
              "      <th>4</th>\n",
              "      <td>10</td>\n",
              "      <td>118790</td>\n",
              "      <td>MCI</td>\n",
              "      <td>1</td>\n",
              "    </tr>\n",
              "    <tr>\n",
              "      <th>...</th>\n",
              "      <td>...</td>\n",
              "      <td>...</td>\n",
              "      <td>...</td>\n",
              "      <td>...</td>\n",
              "    </tr>\n",
              "    <tr>\n",
              "      <th>1995</th>\n",
              "      <td>183</td>\n",
              "      <td>47237</td>\n",
              "      <td>MCI</td>\n",
              "      <td>1</td>\n",
              "    </tr>\n",
              "    <tr>\n",
              "      <th>1996</th>\n",
              "      <td>189</td>\n",
              "      <td>87748</td>\n",
              "      <td>MCI</td>\n",
              "      <td>1</td>\n",
              "    </tr>\n",
              "    <tr>\n",
              "      <th>1997</th>\n",
              "      <td>192</td>\n",
              "      <td>86345</td>\n",
              "      <td>MCI</td>\n",
              "      <td>1</td>\n",
              "    </tr>\n",
              "    <tr>\n",
              "      <th>1998</th>\n",
              "      <td>193</td>\n",
              "      <td>82509</td>\n",
              "      <td>NL</td>\n",
              "      <td>0</td>\n",
              "    </tr>\n",
              "    <tr>\n",
              "      <th>1999</th>\n",
              "      <td>198</td>\n",
              "      <td>47757</td>\n",
              "      <td>MCI</td>\n",
              "      <td>1</td>\n",
              "    </tr>\n",
              "  </tbody>\n",
              "</table>\n",
              "<p>2000 rows × 4 columns</p>\n",
              "</div>"
            ],
            "text/plain": [
              "      index  Image.ID Screen.Diagnosis  Diagnosis_label\n",
              "0         5     31623              MCI                1\n",
              "1         6     51902              MCI                1\n",
              "2         7     64059              MCI                1\n",
              "3         8     87493              MCI                1\n",
              "4        10    118790              MCI                1\n",
              "...     ...       ...              ...              ...\n",
              "1995    183     47237              MCI                1\n",
              "1996    189     87748              MCI                1\n",
              "1997    192     86345              MCI                1\n",
              "1998    193     82509               NL                0\n",
              "1999    198     47757              MCI                1\n",
              "\n",
              "[2000 rows x 4 columns]"
            ]
          },
          "execution_count": 7,
          "metadata": {},
          "output_type": "execute_result"
        }
      ],
      "source": [
        "# Change diagnosis to numbers for labels and have list of labels\n",
        "def num_label(row):\n",
        "  if row['Screen.Diagnosis'] == 'AD':\n",
        "    return 2\n",
        "  elif row['Screen.Diagnosis'] == 'NL':\n",
        "    return 0\n",
        "  elif row['Screen.Diagnosis'] == 'MCI':\n",
        "    return 1\n",
        "df_final['Diagnosis_label'] = df_final.apply(num_label, axis=1)\n",
        "\n",
        "df_final = df_final.reset_index()\n",
        "df_final"
      ]
    },
    {
      "cell_type": "code",
      "execution_count": 8,
      "metadata": {},
      "outputs": [],
      "source": [
        "data_label = []\n",
        "for img in img_id_lst:\n",
        "    row = df_final[df_final['Image.ID'] == img]\n",
        "    split_one = str(row).split(' ')[-1]\n",
        "    data_label.append(int(split_one))"
      ]
    },
    {
      "cell_type": "code",
      "execution_count": 9,
      "metadata": {
        "colab": {
          "base_uri": "https://localhost:8080/"
        },
        "id": "_SSYb7BREuPf",
        "outputId": "9ed0bc79-a1db-4d39-ea0d-669a38fc7187"
      },
      "outputs": [
        {
          "name": "stdout",
          "output_type": "stream",
          "text": [
            "(347501664,)\n",
            "(347328000,)\n"
          ]
        }
      ],
      "source": [
        "# Remove first blank image used to create array\n",
        "print(data_arr.shape)\n",
        "data_new = data_arr[173664:]\n",
        "print(data_new.shape)"
      ]
    },
    {
      "cell_type": "code",
      "execution_count": 10,
      "metadata": {
        "colab": {
          "base_uri": "https://localhost:8080/"
        },
        "id": "iFyuaMXQFteD",
        "outputId": "add5c0c0-55ae-4191-8efb-3fbfcf169395"
      },
      "outputs": [
        {
          "name": "stdout",
          "output_type": "stream",
          "text": [
            "(1, 347328000)\n",
            "2000\n"
          ]
        }
      ],
      "source": [
        "# Normalize the data in array\n",
        "data_norm = tf.keras.utils.normalize(data_new)\n",
        "\n",
        "# Check shape of new array\n",
        "print(data_norm.shape)\n",
        "\n",
        "# Check length of diagnosis label matches shape of new array\n",
        "print(len(data_label))"
      ]
    },
    {
      "cell_type": "code",
      "execution_count": 57,
      "metadata": {
        "colab": {
          "base_uri": "https://localhost:8080/"
        },
        "id": "IU0Px7m1rv7c",
        "outputId": "563147af-a4f3-4c84-ed75-51c92d02ac8b"
      },
      "outputs": [
        {
          "name": "stdout",
          "output_type": "stream",
          "text": [
            "(2000, 173664)\n"
          ]
        }
      ],
      "source": [
        "# Reshape normalized data for 2000 images\n",
        "data_final = np.reshape(data_norm, (2000, 173664))   \n",
        "\n",
        "# Check shape of final data array\n",
        "print(data_final.shape)"
      ]
    },
    {
      "cell_type": "markdown",
      "metadata": {},
      "source": [
        "## CHANGE PCA VALUE\n",
        "1. 10x10x10=1000 run time: 5m 55s"
      ]
    },
    {
      "cell_type": "code",
      "execution_count": 40,
      "metadata": {
        "colab": {
          "base_uri": "https://localhost:8080/"
        },
        "id": "DJtfe5TS7yTF",
        "outputId": "841f66f1-223f-4621-c03b-f0d6f2f19ff0"
      },
      "outputs": [
        {
          "data": {
            "text/plain": [
              "array([[ 8.92769477e-03,  1.46895723e-03, -4.62906541e-03, ...,\n",
              "        -2.90649594e-05, -7.45831944e-05, -1.62871087e-05],\n",
              "       [ 8.55893182e-03, -1.48754152e-03,  4.24523898e-03, ...,\n",
              "         1.47560304e-04,  1.67555777e-05,  3.63992106e-05],\n",
              "       [ 8.92769477e-03,  1.46895723e-03, -4.62906541e-03, ...,\n",
              "        -2.90649594e-05, -7.45831944e-05, -1.62871087e-05],\n",
              "       ...,\n",
              "       [-5.44522786e-03,  1.14989780e-03,  7.25058777e-04, ...,\n",
              "        -2.35217285e-04,  3.41557649e-05,  2.71240637e-04],\n",
              "       [-7.44639531e-03,  3.34626968e-03,  2.46569756e-04, ...,\n",
              "         1.51499421e-04, -1.67676387e-04, -1.12781154e-04],\n",
              "       [-2.82184516e-03,  2.85562152e-03,  1.73957787e-03, ...,\n",
              "         1.37284242e-04,  1.30254909e-05,  2.73794343e-05]])"
            ]
          },
          "execution_count": 40,
          "metadata": {},
          "output_type": "execute_result"
        }
      ],
      "source": [
        "# PCA dimensionality reduction and change back to 3D\n",
        "from sklearn.decomposition import PCA\n",
        "pca_3D = PCA(n_components=729)   # vary this value later\n",
        "data_final_pca = pca_3D.fit_transform(data_final)\n",
        "data_final_pca.shape\n",
        "data_final_pca"
      ]
    },
    {
      "cell_type": "code",
      "execution_count": 41,
      "metadata": {},
      "outputs": [],
      "source": [
        "data_label = np.array(data_label)"
      ]
    },
    {
      "cell_type": "code",
      "execution_count": 42,
      "metadata": {
        "colab": {
          "base_uri": "https://localhost:8080/"
        },
        "id": "VSOLZZNEZL0q",
        "outputId": "467a1643-c976-4111-dd7a-8e257485d443"
      },
      "outputs": [],
      "source": [
        "# Create function to shuffle and split data into training, validation and testing data (3:1:1)\n",
        "def shuffle(data_final_pca, data_label):\n",
        "  split=(0.6,0.2,0.2)\n",
        "  tf.random.set_seed(0)\n",
        "  np.random.seed(0)\n",
        "  shuffle = np.random.permutation(np.arange(data_final_pca.shape[0]))\n",
        "  data_final_pca, data_label = data_final_pca[shuffle], data_label[shuffle]\n",
        "  splits = np.multiply(len(data_final_pca), split).astype(int)\n",
        "  X_train, X_val, X_test = np.split(data_final_pca, [splits[0], splits[0]+splits[1]])\n",
        "  y_train, y_val, y_test = np.split(data_label, [splits[0], splits[0]+splits[1]])\n",
        "  return X_train, y_train, X_val, y_val, X_test, y_test"
      ]
    },
    {
      "cell_type": "code",
      "execution_count": 63,
      "metadata": {},
      "outputs": [
        {
          "name": "stdout",
          "output_type": "stream",
          "text": [
            "X_train shape (1200, 201, 48, 18)\n",
            "y_train shape (1200,)\n",
            "X_val shape (400, 201, 48, 18)\n",
            "y_val shape (400,)\n",
            "X_test shape (400, 201, 48, 18)\n",
            "y_test shape (400,)\n"
          ]
        }
      ],
      "source": [
        "# Split final data array and data label list into train, val and test data\n",
        "X_train, y_train, X_val, y_val, X_test, y_test = shuffle(data_final, data_label)\n",
        "\n",
        "# Reshape arrays into 3D\n",
        "X_train = X_train.reshape(X_train.shape[0], 201, 48, 18).astype('float32')\n",
        "X_val = X_val.reshape(X_val.shape[0], 201, 48, 18).astype('float32')\n",
        "X_test = X_test.reshape(X_test.shape[0], 201, 48, 18).astype('float32')\n",
        "\n",
        "# Print shapes of train, test and val data, verify splits are correct\n",
        "print(f\"X_train shape {X_train.shape}\")\n",
        "print(f\"y_train shape {y_train.shape}\")\n",
        "print(f\"X_val shape {X_val.shape}\")\n",
        "print(f\"y_val shape {y_val.shape}\")\n",
        "print(f\"X_test shape {X_test.shape}\")\n",
        "print(f\"y_test shape {y_test.shape}\")"
      ]
    },
    {
      "cell_type": "code",
      "execution_count": 33,
      "metadata": {},
      "outputs": [],
      "source": [
        "import numpy\n",
        "from keras.models import Sequential\n",
        "from keras.layers import Dense, Dropout, Flatten, BatchNormalization, Activation"
      ]
    },
    {
      "cell_type": "code",
      "execution_count": 64,
      "metadata": {
        "colab": {
          "base_uri": "https://localhost:8080/"
        },
        "id": "7_QNo1FPrv7c",
        "outputId": "e136ecaa-119b-4b1e-86cd-0c0c621a8c67",
        "tags": [
          "parameters"
        ]
      },
      "outputs": [
        {
          "name": "stdout",
          "output_type": "stream",
          "text": [
            "Model: \"sequential_3\"\n",
            "_________________________________________________________________\n",
            " Layer (type)                Output Shape              Param #   \n",
            "=================================================================\n",
            " conv_1 (Conv3D)             (None, 101, 24, 9, 32)    896       \n",
            "                                                                 \n",
            " pool_1 (MaxPooling3D)       (None, 101, 24, 9, 32)    0         \n",
            "                                                                 \n",
            " dropout_18 (Dropout)        (None, 101, 24, 9, 32)    0         \n",
            "                                                                 \n",
            " batch_normalization_15 (Ba  (None, 101, 24, 9, 32)    128       \n",
            " tchNormalization)                                               \n",
            "                                                                 \n",
            " conv_2 (Conv3D)             (None, 51, 12, 5, 64)     55360     \n",
            "                                                                 \n",
            " pool_2 (MaxPooling3D)       (None, 51, 12, 5, 64)     0         \n",
            "                                                                 \n",
            " dropout_19 (Dropout)        (None, 51, 12, 5, 64)     0         \n",
            "                                                                 \n",
            " batch_normalization_16 (Ba  (None, 51, 12, 5, 64)     256       \n",
            " tchNormalization)                                               \n",
            "                                                                 \n",
            " conv_3 (Conv3D)             (None, 26, 6, 3, 64)      110656    \n",
            "                                                                 \n",
            " pool_3 (MaxPooling3D)       (None, 26, 6, 3, 64)      0         \n",
            "                                                                 \n",
            " dropout_20 (Dropout)        (None, 26, 6, 3, 64)      0         \n",
            "                                                                 \n",
            " batch_normalization_17 (Ba  (None, 26, 6, 3, 64)      256       \n",
            " tchNormalization)                                               \n",
            "                                                                 \n",
            " conv_4 (Conv3D)             (None, 13, 3, 2, 128)     221312    \n",
            "                                                                 \n",
            " pool_4 (MaxPooling3D)       (None, 13, 3, 2, 128)     0         \n",
            "                                                                 \n",
            " dropout_21 (Dropout)        (None, 13, 3, 2, 128)     0         \n",
            "                                                                 \n",
            " batch_normalization_18 (Ba  (None, 13, 3, 2, 128)     512       \n",
            " tchNormalization)                                               \n",
            "                                                                 \n",
            " conv_5 (Conv3D)             (None, 7, 2, 1, 256)      884992    \n",
            "                                                                 \n",
            " pool_5 (MaxPooling3D)       (None, 7, 2, 1, 256)      0         \n",
            "                                                                 \n",
            " dropout_22 (Dropout)        (None, 7, 2, 1, 256)      0         \n",
            "                                                                 \n",
            " batch_normalization_19 (Ba  (None, 7, 2, 1, 256)      1024      \n",
            " tchNormalization)                                               \n",
            "                                                                 \n",
            " flatten_3 (Flatten)         (None, 3584)              0         \n",
            "                                                                 \n",
            " fc_1 (Dense)                (None, 256)               917760    \n",
            "                                                                 \n",
            " dropout_23 (Dropout)        (None, 256)               0         \n",
            "                                                                 \n",
            " fc_2 (Dense)                (None, 1)                 257       \n",
            "                                                                 \n",
            "=================================================================\n",
            "Total params: 2193409 (8.37 MB)\n",
            "Trainable params: 2192321 (8.36 MB)\n",
            "Non-trainable params: 1088 (4.25 KB)\n",
            "_________________________________________________________________\n"
          ]
        }
      ],
      "source": [
        "# Create 3D CNN model using 2 layers\n",
        "\n",
        "model = tf.keras.Sequential()\n",
        "\n",
        "# add first convolution layer to the model\n",
        "model.add(tf.keras.layers.Conv3D(\n",
        "    filters=32,\n",
        "    kernel_size=(3, 3, 3),\n",
        "    strides=(2, 2, 2),\n",
        "    padding='same',\n",
        "    data_format='channels_last',\n",
        "    name='conv_1',\n",
        "    activation='relu'))\n",
        "\n",
        "\n",
        "# add a max pooling layer with pool size (2,2) and strides of 2\n",
        "# (this will reduce the spatial dimensions by half)\n",
        "model.add(tf.keras.layers.MaxPool3D(\n",
        "    pool_size=(1, 1, 1),\n",
        "    name='pool_1'))\n",
        "\n",
        "model.add(Dropout(0.2))\n",
        "model.add(BatchNormalization())\n",
        "\n",
        "# add second convolutional layer\n",
        "model.add(tf.keras.layers.Conv3D(\n",
        "    filters=64,\n",
        "    kernel_size=(3, 3, 3),\n",
        "    strides=(2, 2, 2),\n",
        "    padding='same',\n",
        "    name='conv_2',\n",
        "    activation='relu'))\n",
        "\n",
        "# add second max pooling layer with pool size (2,2) and strides of 2\n",
        "# (this will further reduce the spatial dimensions by half)\n",
        "model.add(tf.keras.layers.MaxPool3D(\n",
        "    pool_size=(1, 1, 1), \n",
        "    name='pool_2'))\n",
        "\n",
        "model.add(Dropout(0.2))\n",
        "model.add(BatchNormalization())\n",
        "\n",
        "# add third convolutional layer\n",
        "model.add(tf.keras.layers.Conv3D(\n",
        "    filters=64,\n",
        "    kernel_size=(3, 3, 3),\n",
        "    strides=(2, 2, 2),\n",
        "    padding='same',\n",
        "    name='conv_3',\n",
        "    activation='relu'))\n",
        "\n",
        "# add third max pooling layer with pool size (2,2) and strides of 2\n",
        "# (this will further reduce the spatial dimensions by half)\n",
        "model.add(tf.keras.layers.MaxPool3D(\n",
        "    pool_size=(1, 1, 1),  \n",
        "    name='pool_3'))\n",
        "\n",
        "model.add(Dropout(0.2))\n",
        "model.add(BatchNormalization())\n",
        "\n",
        "# add fourth convolutional layer\n",
        "model.add(tf.keras.layers.Conv3D(\n",
        "    filters=128,\n",
        "    kernel_size=(3, 3, 3),\n",
        "    strides=(2, 2, 2),\n",
        "    padding='same',\n",
        "    name='conv_4',\n",
        "    activation='relu'))\n",
        "\n",
        "# add fourth max pooling layer with pool size (2,2) and strides of 2\n",
        "# (this will further reduce the spatial dimensions by half)\n",
        "model.add(tf.keras.layers.MaxPool3D(\n",
        "    pool_size=(1, 1, 1),  # changed this from 2 to 1\n",
        "    name='pool_4'))\n",
        "\n",
        "model.add(Dropout(0.2))\n",
        "model.add(BatchNormalization())\n",
        "\n",
        "# add fifth convolutional layer\n",
        "model.add(tf.keras.layers.Conv3D(\n",
        "    filters=256,\n",
        "    kernel_size=(3, 3, 3),\n",
        "    strides=(2, 2, 2),\n",
        "    padding='same',\n",
        "    name='conv_5',\n",
        "    activation='relu'))\n",
        "\n",
        "# add fourth max pooling layer with pool size (2,2) and strides of 2\n",
        "# (this will further reduce the spatial dimensions by half)\n",
        "model.add(tf.keras.layers.MaxPool3D(\n",
        "    pool_size=(1, 1, 1),  # changed this from 2 to 1\n",
        "    name='pool_5'))\n",
        "\n",
        "model.add(Dropout(0.2))\n",
        "model.add(BatchNormalization())\n",
        "\n",
        "# add a fully connected layer (need to flatten the output of the previous layers first)\n",
        "model.add(tf.keras.layers.Flatten())\n",
        "model.add(tf.keras.layers.Dense(\n",
        "    units=256,\n",
        "    name='fc_1',\n",
        "    activation='relu'))\n",
        "\n",
        "# add dropout layer\n",
        "model.add(tf.keras.layers.Dropout(\n",
        "    rate=0.5))\n",
        "\n",
        "# add the last fully connected layer\n",
        "# this last layer sets the activation function to \"None\" in order to output the logits\n",
        "# note that passing activation = \"sigmoid\" will return class memembership probabilities but\n",
        "# in TensorFlow logits are prefered for numerical stability\n",
        "# set units=1 to get a single output unit (remember it's a binary classification problem)\n",
        "model.add(tf.keras.layers.Dense(\n",
        "    units=1,\n",
        "    name='fc_2',\n",
        "    activation=None))\n",
        "\n",
        "\n",
        "# build model and print summary\n",
        "tf.random.set_seed(1)\n",
        "model.build(input_shape=(None, 201, 48, 18, 1))  \n",
        "model.summary()"
      ]
    },
    {
      "cell_type": "code",
      "execution_count": 65,
      "metadata": {
        "id": "YZe6gC9prv7d"
      },
      "outputs": [],
      "source": [
        "# Optimize model\n",
        "model.compile(optimizer=tf.keras.optimizers.Adam(learning_rate=0.001),\n",
        "              loss=tf.keras.losses.BinaryCrossentropy(from_logits=False), \n",
        "              metrics=['accuracy'])"
      ]
    },
    {
      "cell_type": "code",
      "execution_count": 66,
      "metadata": {
        "colab": {
          "base_uri": "https://localhost:8080/"
        },
        "id": "O_AUTqTNrv7d",
        "outputId": "97398965-844b-4d16-938c-1c514f7ef577"
      },
      "outputs": [
        {
          "name": "stdout",
          "output_type": "stream",
          "text": [
            "Epoch 1/20\n",
            "38/38 [==============================] - 42s 1s/step - loss: 3.9642 - accuracy: 0.4408 - val_loss: 13.0726 - val_accuracy: 0.3225\n",
            "Epoch 2/20\n",
            "38/38 [==============================] - 33s 869ms/step - loss: 2.6054 - accuracy: 0.4667 - val_loss: 13.0726 - val_accuracy: 0.3225\n",
            "Epoch 3/20\n",
            "38/38 [==============================] - 38s 1s/step - loss: 2.3469 - accuracy: 0.4775 - val_loss: 13.0726 - val_accuracy: 0.3225\n",
            "Epoch 4/20\n",
            "38/38 [==============================] - 55s 1s/step - loss: 2.1009 - accuracy: 0.4775 - val_loss: 13.0726 - val_accuracy: 0.3225\n",
            "Epoch 5/20\n",
            "38/38 [==============================] - 49s 1s/step - loss: 2.1095 - accuracy: 0.4783 - val_loss: 13.0726 - val_accuracy: 0.3225\n",
            "Epoch 6/20\n",
            "38/38 [==============================] - 45s 1s/step - loss: 2.1336 - accuracy: 0.4775 - val_loss: 13.0726 - val_accuracy: 0.3225\n",
            "Epoch 7/20\n",
            "38/38 [==============================] - 51s 1s/step - loss: 2.0855 - accuracy: 0.4792 - val_loss: 13.0726 - val_accuracy: 0.3225\n",
            "Epoch 8/20\n",
            "38/38 [==============================] - 50s 1s/step - loss: 2.1095 - accuracy: 0.4783 - val_loss: 13.0726 - val_accuracy: 0.3225\n",
            "Epoch 9/20\n",
            "38/38 [==============================] - 50s 1s/step - loss: 2.1095 - accuracy: 0.4783 - val_loss: 13.0726 - val_accuracy: 0.3225\n",
            "Epoch 10/20\n",
            "38/38 [==============================] - 50s 1s/step - loss: 2.0978 - accuracy: 0.4783 - val_loss: 13.0726 - val_accuracy: 0.3225\n",
            "Epoch 11/20\n",
            "38/38 [==============================] - 50s 1s/step - loss: 2.1095 - accuracy: 0.4783 - val_loss: 13.0726 - val_accuracy: 0.3225\n",
            "Epoch 12/20\n",
            "38/38 [==============================] - 51s 1s/step - loss: 2.1112 - accuracy: 0.4792 - val_loss: 13.0726 - val_accuracy: 0.3225\n",
            "Epoch 13/20\n",
            "38/38 [==============================] - 52s 1s/step - loss: 2.1095 - accuracy: 0.4783 - val_loss: 13.0726 - val_accuracy: 0.3225\n",
            "Epoch 14/20\n",
            "38/38 [==============================] - 55s 1s/step - loss: 2.1095 - accuracy: 0.4783 - val_loss: 13.0726 - val_accuracy: 0.3225\n",
            "Epoch 15/20\n",
            "38/38 [==============================] - 56s 1s/step - loss: 2.1352 - accuracy: 0.4767 - val_loss: 13.0726 - val_accuracy: 0.3225\n",
            "Epoch 16/20\n",
            "38/38 [==============================] - 62s 2s/step - loss: 2.1095 - accuracy: 0.4783 - val_loss: 13.0726 - val_accuracy: 0.3225\n",
            "Epoch 17/20\n",
            "38/38 [==============================] - 59s 2s/step - loss: 2.1095 - accuracy: 0.4783 - val_loss: 13.0726 - val_accuracy: 0.3225\n",
            "Epoch 18/20\n",
            "38/38 [==============================] - 56s 1s/step - loss: 2.1095 - accuracy: 0.4783 - val_loss: 13.0726 - val_accuracy: 0.3225\n",
            "Epoch 19/20\n",
            "38/38 [==============================] - 56s 1s/step - loss: 2.1095 - accuracy: 0.4783 - val_loss: 13.0726 - val_accuracy: 0.3225\n",
            "Epoch 20/20\n",
            "38/38 [==============================] - 60s 2s/step - loss: 2.1095 - accuracy: 0.4783 - val_loss: 13.0726 - val_accuracy: 0.3225\n"
          ]
        }
      ],
      "source": [
        "# Fit training data into model and check overfitting using validation data\n",
        "tf.random.set_seed(1234)\n",
        "np.random.seed(1234)\n",
        "history = model.fit(X_train, y_train,\n",
        "                    epochs=20,\n",
        "                    validation_data=(X_val, y_val))"
      ]
    },
    {
      "cell_type": "code",
      "execution_count": null,
      "metadata": {
        "colab": {
          "base_uri": "https://localhost:8080/",
          "height": 250
        },
        "id": "qSkYQ2Hlrv7d",
        "outputId": "39c49ab2-8d35-4c5f-ef2d-6f450b3e3415"
      },
      "outputs": [
        {
          "data": {
            "image/png": "[encoded data removed]",
            "text/plain": [
              "<Figure size 1200x400 with 2 Axes>"
            ]
          },
          "metadata": {},
          "output_type": "display_data"
        }
      ],
      "source": [
        "# Plot validation and training loss\n",
        "hist = history.history\n",
        "x_arr = np.arange(len(hist['loss'])) + 1\n",
        "\n",
        "fig = plt.figure(figsize=(12, 4))\n",
        "ax = fig.add_subplot(1, 2, 1)\n",
        "ax.plot(x_arr, hist['loss'], '-o', label='Train loss')\n",
        "ax.plot(x_arr, hist['val_loss'], '--<', label='Validation loss')\n",
        "ax.legend(fontsize=15)\n",
        "ax.set_xlabel('Epoch', size=15)\n",
        "ax.set_ylabel('Loss', size=15)\n",
        "\n",
        "ax = fig.add_subplot(1, 2, 2)\n",
        "ax.plot(x_arr, hist['accuracy'], '-o', label='Train acc.')\n",
        "ax.plot(x_arr, hist['val_accuracy'], '--<', label='Validation acc.')\n",
        "ax.legend(fontsize=15)\n",
        "ax.set_xlabel('Epoch', size=15)\n",
        "ax.set_ylabel('Accuracy', size=15)\n",
        "plt.show()"
      ]
    },
    {
      "cell_type": "code",
      "execution_count": null,
      "metadata": {
        "colab": {
          "base_uri": "https://localhost:8080/"
        },
        "id": "ZdAgiTdPrv7e",
        "outputId": "0ec5864c-184f-4535-823b-4e306c351c7b"
      },
      "outputs": [
        {
          "name": "stdout",
          "output_type": "stream",
          "text": [
            "13/13 [==============================] - 1s 69ms/step - loss: 2.2874 - accuracy: 0.4900\n",
            "\n",
            "Test Acc. 49.00%\n"
          ]
        }
      ],
      "source": [
        "# Evaluate model using test data\n",
        "test_results = model.evaluate(X_test, y_test)\n",
        "print('\\nTest Acc. {:.2f}%'.format(test_results[1]*100))"
      ]
    },
    {
      "cell_type": "code",
      "execution_count": 43,
      "metadata": {},
      "outputs": [
        {
          "name": "stdout",
          "output_type": "stream",
          "text": [
            "X_train shape (1200, 9, 9, 9)\n",
            "y_train shape (1200,)\n",
            "X_val shape (400, 9, 9, 9)\n",
            "y_val shape (400,)\n",
            "X_test shape (400, 9, 9, 9)\n",
            "y_test shape (400,)\n"
          ]
        }
      ],
      "source": [
        "# Split final data array and data label list into train, val and test data\n",
        "X_train, y_train, X_val, y_val, X_test, y_test = shuffle(data_final_pca, data_label)\n",
        "\n",
        "# Reshape arrays into 3D\n",
        "X_train = X_train.reshape(X_train.shape[0],9, 9, 9).astype('float32')\n",
        "X_val = X_val.reshape(X_val.shape[0],9, 9, 9).astype('float32')\n",
        "X_test = X_test.reshape(X_test.shape[0],9, 9, 9).astype('float32')\n",
        "\n",
        "# Print shapes of train, test and val data, verify splits are correct\n",
        "print(f\"X_train shape {X_train.shape}\")\n",
        "print(f\"y_train shape {y_train.shape}\")\n",
        "print(f\"X_val shape {X_val.shape}\")\n",
        "print(f\"y_val shape {y_val.shape}\")\n",
        "print(f\"X_test shape {X_test.shape}\")\n",
        "print(f\"y_test shape {y_test.shape}\")"
      ]
    },
    {
      "cell_type": "code",
      "execution_count": 44,
      "metadata": {},
      "outputs": [
        {
          "name": "stdout",
          "output_type": "stream",
          "text": [
            "WARNING:tensorflow:From c:\\Users\\there\\AppData\\Local\\Programs\\Python\\Python39\\lib\\site-packages\\keras\\src\\backend.py:873: The name tf.get_default_graph is deprecated. Please use tf.compat.v1.get_default_graph instead.\n",
            "\n",
            "WARNING:tensorflow:From c:\\Users\\there\\AppData\\Local\\Programs\\Python\\Python39\\lib\\site-packages\\keras\\src\\layers\\normalization\\batch_normalization.py:979: The name tf.nn.fused_batch_norm is deprecated. Please use tf.compat.v1.nn.fused_batch_norm instead.\n",
            "\n",
            "Model: \"sequential\"\n",
            "_________________________________________________________________\n",
            " Layer (type)                Output Shape              Param #   \n",
            "=================================================================\n",
            " conv_1 (Conv3D)             (None, 5, 5, 5, 32)       896       \n",
            "                                                                 \n",
            " pool_1 (MaxPooling3D)       (None, 5, 5, 5, 32)       0         \n",
            "                                                                 \n",
            " dropout (Dropout)           (None, 5, 5, 5, 32)       0         \n",
            "                                                                 \n",
            " batch_normalization (Batch  (None, 5, 5, 5, 32)       128       \n",
            " Normalization)                                                  \n",
            "                                                                 \n",
            " conv_2 (Conv3D)             (None, 3, 3, 3, 64)       55360     \n",
            "                                                                 \n",
            " pool_2 (MaxPooling3D)       (None, 3, 3, 3, 64)       0         \n",
            "                                                                 \n",
            " dropout_1 (Dropout)         (None, 3, 3, 3, 64)       0         \n",
            "                                                                 \n",
            " batch_normalization_1 (Bat  (None, 3, 3, 3, 64)       256       \n",
            " chNormalization)                                                \n",
            "                                                                 \n",
            " conv_3 (Conv3D)             (None, 2, 2, 2, 64)       110656    \n",
            "                                                                 \n",
            " pool_3 (MaxPooling3D)       (None, 2, 2, 2, 64)       0         \n",
            "                                                                 \n",
            " dropout_2 (Dropout)         (None, 2, 2, 2, 64)       0         \n",
            "                                                                 \n",
            " batch_normalization_2 (Bat  (None, 2, 2, 2, 64)       256       \n",
            " chNormalization)                                                \n",
            "                                                                 \n",
            " conv_4 (Conv3D)             (None, 1, 1, 1, 128)      221312    \n",
            "                                                                 \n",
            " pool_4 (MaxPooling3D)       (None, 1, 1, 1, 128)      0         \n",
            "                                                                 \n",
            " dropout_3 (Dropout)         (None, 1, 1, 1, 128)      0         \n",
            "                                                                 \n",
            " batch_normalization_3 (Bat  (None, 1, 1, 1, 128)      512       \n",
            " chNormalization)                                                \n",
            "                                                                 \n",
            " conv_5 (Conv3D)             (None, 1, 1, 1, 256)      884992    \n",
            "                                                                 \n",
            " pool_5 (MaxPooling3D)       (None, 1, 1, 1, 256)      0         \n",
            "                                                                 \n",
            " conv_6 (Conv3D)             (None, 1, 1, 1, 256)      1769728   \n",
            "                                                                 \n",
            " pool_6 (MaxPooling3D)       (None, 1, 1, 1, 256)      0         \n",
            "                                                                 \n",
            " dropout_4 (Dropout)         (None, 1, 1, 1, 256)      0         \n",
            "                                                                 \n",
            " batch_normalization_4 (Bat  (None, 1, 1, 1, 256)      1024      \n",
            " chNormalization)                                                \n",
            "                                                                 \n",
            " flatten (Flatten)           (None, 256)               0         \n",
            "                                                                 \n",
            " fc_1 (Dense)                (None, 256)               65792     \n",
            "                                                                 \n",
            " dropout_5 (Dropout)         (None, 256)               0         \n",
            "                                                                 \n",
            " fc_2 (Dense)                (None, 1)                 257       \n",
            "                                                                 \n",
            "=================================================================\n",
            "Total params: 3111169 (11.87 MB)\n",
            "Trainable params: 3110081 (11.86 MB)\n",
            "Non-trainable params: 1088 (4.25 KB)\n",
            "_________________________________________________________________\n"
          ]
        }
      ],
      "source": [
        "# Create 3D CNN model using 2 layers\n",
        "\n",
        "model = tf.keras.Sequential()\n",
        "\n",
        "# add first convolution layer to the model\n",
        "model.add(tf.keras.layers.Conv3D(\n",
        "    filters=32,\n",
        "    kernel_size=(3, 3, 3),\n",
        "    strides=(2, 2, 2),\n",
        "    padding='same',\n",
        "    data_format='channels_last',\n",
        "    name='conv_1',\n",
        "    activation='relu'))\n",
        "\n",
        "\n",
        "# add a max pooling layer with pool size (2,2) and strides of 2\n",
        "# (this will reduce the spatial dimensions by half)\n",
        "model.add(tf.keras.layers.MaxPool3D(\n",
        "    pool_size=(1, 1, 1),\n",
        "    name='pool_1'))\n",
        "\n",
        "model.add(Dropout(0.2))\n",
        "model.add(BatchNormalization())\n",
        "\n",
        "# add second convolutional layer\n",
        "model.add(tf.keras.layers.Conv3D(\n",
        "    filters=64,\n",
        "    kernel_size=(3, 3, 3),\n",
        "    strides=(2, 2, 2),\n",
        "    padding='same',\n",
        "    name='conv_2',\n",
        "    activation='relu'))\n",
        "\n",
        "# add second max pooling layer with pool size (2,2) and strides of 2\n",
        "# (this will further reduce the spatial dimensions by half)\n",
        "model.add(tf.keras.layers.MaxPool3D(\n",
        "    pool_size=(1, 1, 1), \n",
        "    name='pool_2'))\n",
        "\n",
        "model.add(Dropout(0.2))\n",
        "model.add(BatchNormalization())\n",
        "\n",
        "# add third convolutional layer\n",
        "model.add(tf.keras.layers.Conv3D(\n",
        "    filters=64,\n",
        "    kernel_size=(3, 3, 3),\n",
        "    strides=(2, 2, 2),\n",
        "    padding='same',\n",
        "    name='conv_3',\n",
        "    activation='relu'))\n",
        "\n",
        "# add third max pooling layer with pool size (2,2) and strides of 2\n",
        "# (this will further reduce the spatial dimensions by half)\n",
        "model.add(tf.keras.layers.MaxPool3D(\n",
        "    pool_size=(1, 1, 1),  \n",
        "    name='pool_3'))\n",
        "\n",
        "model.add(Dropout(0.2))\n",
        "model.add(BatchNormalization())\n",
        "\n",
        "# add fourth convolutional layer\n",
        "model.add(tf.keras.layers.Conv3D(\n",
        "    filters=128,\n",
        "    kernel_size=(3, 3, 3),\n",
        "    strides=(2, 2, 2),\n",
        "    padding='same',\n",
        "    name='conv_4',\n",
        "    activation='relu'))\n",
        "\n",
        "# add fourth max pooling layer with pool size (2,2) and strides of 2\n",
        "# (this will further reduce the spatial dimensions by half)\n",
        "model.add(tf.keras.layers.MaxPool3D(\n",
        "    pool_size=(1, 1, 1),  # changed this from 2 to 1\n",
        "    name='pool_4'))\n",
        "\n",
        "model.add(Dropout(0.2))\n",
        "model.add(BatchNormalization())\n",
        "\n",
        "\n",
        "# add fifth convolutional layer\n",
        "model.add(tf.keras.layers.Conv3D(\n",
        "    filters=256,\n",
        "    kernel_size=(3, 3, 3),\n",
        "    strides=(2, 2, 2),\n",
        "    padding='same',\n",
        "    name='conv_5',\n",
        "    activation='relu'))\n",
        "\n",
        "# add fifth max pooling layer with pool size (2,2) and strides of 2\n",
        "# (this will further reduce the spatial dimensions by half)\n",
        "model.add(tf.keras.layers.MaxPool3D(\n",
        "    pool_size=(1, 1, 1),  # changed this from 2 to 1\n",
        "    name='pool_5'))\n",
        "\n",
        "# add sixth convolutional layer\n",
        "model.add(tf.keras.layers.Conv3D(\n",
        "    filters=256,\n",
        "    kernel_size=(3, 3, 3),\n",
        "    strides=(2, 2, 2),\n",
        "    padding='same',\n",
        "    name='conv_6',\n",
        "    activation='relu'))\n",
        "\n",
        "# add sixth max pooling layer with pool size (2,2) and strides of 2\n",
        "# (this will further reduce the spatial dimensions by half)\n",
        "model.add(tf.keras.layers.MaxPool3D(\n",
        "    pool_size=(1, 1, 1),  # changed this from 2 to 1\n",
        "    name='pool_6'))\n",
        "\n",
        "model.add(Dropout(0.2))\n",
        "model.add(BatchNormalization())\n",
        "\n",
        "# add a fully connected layer (need to flatten the output of the previous layers first)\n",
        "model.add(tf.keras.layers.Flatten())\n",
        "model.add(tf.keras.layers.Dense(\n",
        "    units=256,\n",
        "    name='fc_1',\n",
        "    activation='relu'))\n",
        "\n",
        "# add dropout layer\n",
        "model.add(tf.keras.layers.Dropout(\n",
        "    rate=0.5))\n",
        "\n",
        "# add the last fully connected layer\n",
        "# this last layer sets the activation function to \"None\" in order to output the logits\n",
        "# note that passing activation = \"sigmoid\" will return class memembership probabilities but\n",
        "# in TensorFlow logits are prefered for numerical stability\n",
        "# set units=1 to get a single output unit (remember it's a binary classification problem)\n",
        "model.add(tf.keras.layers.Dense(\n",
        "    units=1,\n",
        "    name='fc_2',\n",
        "    activation=None))\n",
        "\n",
        "\n",
        "# build model and print summary\n",
        "tf.random.set_seed(1)\n",
        "model.build(input_shape=(None,9, 9, 9, 1))  \n",
        "model.summary()"
      ]
    },
    {
      "cell_type": "code",
      "execution_count": 46,
      "metadata": {},
      "outputs": [],
      "source": [
        "# Optimize model\n",
        "model.compile(optimizer=tf.keras.optimizers.Adam(learning_rate=0.001),\n",
        "              loss=tf.keras.losses.BinaryCrossentropy(from_logits=False), \n",
        "              metrics=['accuracy'])"
      ]
    },
    {
      "cell_type": "code",
      "execution_count": 47,
      "metadata": {},
      "outputs": [
        {
          "name": "stdout",
          "output_type": "stream",
          "text": [
            "Epoch 1/20\n",
            "WARNING:tensorflow:From c:\\Users\\there\\AppData\\Local\\Programs\\Python\\Python39\\lib\\site-packages\\keras\\src\\utils\\tf_utils.py:492: The name tf.ragged.RaggedTensorValue is deprecated. Please use tf.compat.v1.ragged.RaggedTensorValue instead.\n",
            "\n",
            "WARNING:tensorflow:From c:\\Users\\there\\AppData\\Local\\Programs\\Python\\Python39\\lib\\site-packages\\keras\\src\\engine\\base_layer_utils.py:384: The name tf.executing_eagerly_outside_functions is deprecated. Please use tf.compat.v1.executing_eagerly_outside_functions instead.\n",
            "\n",
            "38/38 [==============================] - 17s 296ms/step - loss: 4.3574 - accuracy: 0.4167 - val_loss: 0.8840 - val_accuracy: 0.3225\n",
            "Epoch 2/20\n",
            "38/38 [==============================] - 7s 189ms/step - loss: 2.1558 - accuracy: 0.4717 - val_loss: 0.6189 - val_accuracy: 0.5075\n",
            "Epoch 3/20\n",
            "38/38 [==============================] - 7s 191ms/step - loss: 2.0552 - accuracy: 0.4700 - val_loss: 0.5690 - val_accuracy: 0.5075\n",
            "Epoch 4/20\n",
            "38/38 [==============================] - 7s 190ms/step - loss: 2.0965 - accuracy: 0.4783 - val_loss: 0.5420 - val_accuracy: 0.5075\n",
            "Epoch 5/20\n",
            "38/38 [==============================] - 8s 216ms/step - loss: 2.1043 - accuracy: 0.4617 - val_loss: 0.5495 - val_accuracy: 0.5075\n",
            "Epoch 6/20\n",
            "38/38 [==============================] - 7s 189ms/step - loss: 2.0939 - accuracy: 0.4708 - val_loss: 2.3255 - val_accuracy: 0.5075\n",
            "Epoch 7/20\n",
            "38/38 [==============================] - 8s 205ms/step - loss: 2.1471 - accuracy: 0.4758 - val_loss: 2.3255 - val_accuracy: 0.5075\n",
            "Epoch 8/20\n",
            "38/38 [==============================] - 7s 183ms/step - loss: 2.0044 - accuracy: 0.4792 - val_loss: 2.3255 - val_accuracy: 0.5075\n",
            "Epoch 9/20\n",
            "38/38 [==============================] - 7s 188ms/step - loss: 2.0790 - accuracy: 0.4792 - val_loss: 2.3255 - val_accuracy: 0.5075\n",
            "Epoch 10/20\n",
            "38/38 [==============================] - 7s 195ms/step - loss: 2.1120 - accuracy: 0.4775 - val_loss: 2.3255 - val_accuracy: 0.5075\n",
            "Epoch 11/20\n",
            "38/38 [==============================] - 8s 205ms/step - loss: 2.1109 - accuracy: 0.4767 - val_loss: 2.3255 - val_accuracy: 0.5075\n",
            "Epoch 12/20\n",
            "38/38 [==============================] - 8s 198ms/step - loss: 2.1476 - accuracy: 0.4783 - val_loss: 2.3255 - val_accuracy: 0.5075\n",
            "Epoch 13/20\n",
            "38/38 [==============================] - 8s 200ms/step - loss: 2.1203 - accuracy: 0.4783 - val_loss: 2.3255 - val_accuracy: 0.5075\n",
            "Epoch 14/20\n",
            "38/38 [==============================] - 9s 225ms/step - loss: 2.1098 - accuracy: 0.4783 - val_loss: 2.3255 - val_accuracy: 0.5075\n",
            "Epoch 15/20\n",
            "38/38 [==============================] - 8s 225ms/step - loss: 2.0897 - accuracy: 0.4783 - val_loss: 2.3255 - val_accuracy: 0.5075\n",
            "Epoch 16/20\n",
            "38/38 [==============================] - 8s 212ms/step - loss: 2.1006 - accuracy: 0.4792 - val_loss: 2.3255 - val_accuracy: 0.5075\n",
            "Epoch 17/20\n",
            "38/38 [==============================] - 8s 211ms/step - loss: 2.1332 - accuracy: 0.4775 - val_loss: 2.3255 - val_accuracy: 0.5075\n",
            "Epoch 18/20\n",
            "38/38 [==============================] - 8s 215ms/step - loss: 2.1395 - accuracy: 0.4800 - val_loss: 2.3255 - val_accuracy: 0.5075\n",
            "Epoch 19/20\n",
            "38/38 [==============================] - 10s 265ms/step - loss: 2.0553 - accuracy: 0.4775 - val_loss: 2.3255 - val_accuracy: 0.5075\n",
            "Epoch 20/20\n",
            "38/38 [==============================] - 10s 264ms/step - loss: 2.0914 - accuracy: 0.4792 - val_loss: 2.3255 - val_accuracy: 0.5075\n"
          ]
        }
      ],
      "source": [
        "# Fit training data into model and check overfitting using validation data\n",
        "tf.random.set_seed(1234)\n",
        "np.random.seed(1234)\n",
        "history = model.fit(X_train, y_train,\n",
        "                    epochs=20,\n",
        "                    validation_data=(X_val, y_val))"
      ]
    },
    {
      "cell_type": "code",
      "execution_count": 48,
      "metadata": {},
      "outputs": [
        {
          "name": "stdout",
          "output_type": "stream",
          "text": [
            "13/13 [==============================] - 0s 15ms/step - loss: 2.2874 - accuracy: 0.4900\n",
            "\n",
            "Test Acc. 49.00%\n"
          ]
        }
      ],
      "source": [
        "# Evaluate model using test data\n",
        "test_results = model.evaluate(X_test, y_test)\n",
        "print('\\nTest Acc. {:.2f}%'.format(test_results[1]*100))"
      ]
    },
    {
      "cell_type": "code",
      "execution_count": 49,
      "metadata": {},
      "outputs": [],
      "source": [
        "import matplotlib.pyplot as plt\n",
        "from sklearn.metrics import confusion_matrix, ConfusionMatrixDisplay\n",
        "from sklearn.metrics import f1_score"
      ]
    },
    {
      "cell_type": "code",
      "execution_count": 50,
      "metadata": {},
      "outputs": [
        {
          "data": {
            "text/plain": [
              "[<matplotlib.lines.Line2D at 0x24ac03fceb0>]"
            ]
          },
          "execution_count": 50,
          "metadata": {},
          "output_type": "execute_result"
        },
        {
          "data": {
            "image/png": "[encoded data removed]",
            "text/plain": [
              "<Figure size 640x480 with 1 Axes>"
            ]
          },
          "metadata": {},
          "output_type": "display_data"
        }
      ],
      "source": [
        "x= [125, 343, 512, 729, 1000]\n",
        "y = [0.4283, 0.4442, 0.4692, 0.4792, 0.4800]\n",
        "plt.xlabel('No. of features')\n",
        "plt.ylabel('Train accuracy')\n",
        "plt.plot(x, y)"
      ]
    },
    {
      "cell_type": "code",
      "execution_count": 52,
      "metadata": {},
      "outputs": [
        {
          "data": {
            "text/plain": [
              "0.1637593984962406"
            ]
          },
          "execution_count": 52,
          "metadata": {},
          "output_type": "execute_result"
        }
      ],
      "source": [
        "from sklearn.metrics import f1_score\n",
        "y_pred = model.predict(X_test)\n",
        "f1_score(y_test, y_pred, average='weighted')"
      ]
    },
    {
      "cell_type": "code",
      "execution_count": 53,
      "metadata": {},
      "outputs": [
        {
          "data": {
            "text/plain": [
              "0.0"
            ]
          },
          "execution_count": 53,
          "metadata": {},
          "output_type": "execute_result"
        }
      ],
      "source": [
        "from sklearn.metrics import matthews_corrcoef\n",
        "matthews_corrcoef(y_test, y_pred)"
      ]
    }
  ],
  "metadata": {
    "colab": {
      "provenance": []
    },
    "kernelspec": {
      "display_name": "Python 3.9.12 ('base')",
      "language": "python",
      "name": "python3"
    },
    "language_info": {
      "codemirror_mode": {
        "name": "ipython",
        "version": 3
      },
      "file_extension": ".py",
      "mimetype": "text/x-python",
      "name": "python",
      "nbconvert_exporter": "python",
      "pygments_lexer": "ipython3",
      "version": "3.9.5"
    },
    "vscode": {
      "interpreter": {
        "hash": "3aab1d81102dd85a4e135791df0ed825843c4f8eb1c39325f69528e4a20aff5c"
      }
    }
  },
  "nbformat": 4,
  "nbformat_minor": 0
}
